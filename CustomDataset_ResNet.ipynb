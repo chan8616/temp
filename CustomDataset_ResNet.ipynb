{
 "cells": [
  {
   "cell_type": "code",
   "execution_count": 31,
   "id": "a4d6240f",
   "metadata": {},
   "outputs": [],
   "source": [
    "import torch \n",
    "import torch.nn as nn\n",
    "import os\n",
    "import pandas as pd\n",
    "from torch.utils.data import Dataset\n",
    "from torch.utils.data import DataLoader\n",
    "import numpy as np\n",
    "import torchvision\n",
    "\n",
    "# Device configuration\n",
    "device = torch.device('cuda' if torch.cuda.is_available() else 'cpu')"
   ]
  },
  {
   "cell_type": "code",
   "execution_count": 4,
   "id": "aa1f5c53",
   "metadata": {},
   "outputs": [],
   "source": [
    "# Hyper-parameters\n",
    "sequence_length = 19\n",
    "input_size = 128\n",
    "num_classes = 4\n",
    "batch_size = 64\n",
    "num_epochs = 10\n",
    "learning_rate = 0.001\n",
    "n_samples = 764"
   ]
  },
  {
   "cell_type": "code",
   "execution_count": 39,
   "id": "594d3146",
   "metadata": {},
   "outputs": [],
   "source": [
    "x = torch.randn(n_samples, 1, sequence_length, input_size)\n",
    "y = torch.tensor(np.random.choice([0,1,2,3,4], n_samples))"
   ]
  },
  {
   "cell_type": "code",
   "execution_count": 40,
   "id": "02f707d5",
   "metadata": {},
   "outputs": [],
   "source": [
    "class CustomDataset(Dataset):\n",
    "    def __init__(self, x, y):\n",
    "        self.data = x\n",
    "        self.label = y\n",
    "        \n",
    "    def __len__(self):\n",
    "        return len(self.label)\n",
    "\n",
    "    def __getitem__(self, idx):\n",
    "        data = torch.tensor(self.data[idx], dtype=torch.float32)\n",
    "        label = torch.tensor(self.label[idx], dtype=torch.int64)\n",
    "        return data, label"
   ]
  },
  {
   "cell_type": "code",
   "execution_count": 41,
   "id": "29881046",
   "metadata": {},
   "outputs": [],
   "source": [
    "idx = int(len(y)*0.8)\n",
    "train_x = x[:idx]\n",
    "test_x = x[idx:]\n",
    "train_y = y[:idx]\n",
    "test_y = y[idx:]"
   ]
  },
  {
   "cell_type": "code",
   "execution_count": 42,
   "id": "3785b2d9",
   "metadata": {},
   "outputs": [],
   "source": [
    "trainset = CustomDataset(train_x, train_y)\n",
    "testset = CustomDataset(test_x, test_y)\n",
    "train_loader = DataLoader(trainset, batch_size=batch_size, shuffle=True, drop_last=True)\n",
    "test_loader = DataLoader(testset, batch_size=batch_size, shuffle=False, drop_last=True)"
   ]
  },
  {
   "cell_type": "code",
   "execution_count": 43,
   "id": "b9cb2cd8",
   "metadata": {
    "scrolled": true
   },
   "outputs": [
    {
     "name": "stderr",
     "output_type": "stream",
     "text": [
      "<ipython-input-40-2b9bfe8c4c65>:10: UserWarning: To copy construct from a tensor, it is recommended to use sourceTensor.clone().detach() or sourceTensor.clone().detach().requires_grad_(True), rather than torch.tensor(sourceTensor).\n",
      "  data = torch.tensor(self.data[idx], dtype=torch.float32)\n",
      "<ipython-input-40-2b9bfe8c4c65>:11: UserWarning: To copy construct from a tensor, it is recommended to use sourceTensor.clone().detach() or sourceTensor.clone().detach().requires_grad_(True), rather than torch.tensor(sourceTensor).\n",
      "  label = torch.tensor(self.label[idx], dtype=torch.int64)\n"
     ]
    },
    {
     "data": {
      "text/plain": [
       "torch.Size([1, 18, 128])"
      ]
     },
     "execution_count": 43,
     "metadata": {},
     "output_type": "execute_result"
    }
   ],
   "source": [
    "#dataset shape 확인\n",
    "trainset[0][0].shape"
   ]
  },
  {
   "cell_type": "code",
   "execution_count": 44,
   "id": "c04401a1",
   "metadata": {},
   "outputs": [],
   "source": [
    "# Device configuration\n",
    "device = torch.device('cuda' if torch.cuda.is_available() else 'cpu')"
   ]
  },
  {
   "cell_type": "code",
   "execution_count": 45,
   "id": "08473fe9",
   "metadata": {},
   "outputs": [],
   "source": [
    "# 3x3 convolution\n",
    "def conv3x3(in_channels, out_channels, stride=1):\n",
    "    return nn.Conv2d(in_channels, out_channels, kernel_size=3, \n",
    "                     stride=stride, padding=1, bias=False)\n",
    "\n",
    "# Residual block\n",
    "class ResidualBlock(nn.Module):\n",
    "    def __init__(self, in_channels, out_channels, stride=1, downsample=None):\n",
    "        super(ResidualBlock, self).__init__()\n",
    "        self.conv1 = conv3x3(in_channels, out_channels, stride)\n",
    "        self.bn1 = nn.BatchNorm2d(out_channels)\n",
    "        self.relu = nn.ReLU(inplace=True)\n",
    "        self.conv2 = conv3x3(out_channels, out_channels)\n",
    "        self.bn2 = nn.BatchNorm2d(out_channels)\n",
    "        self.downsample = downsample\n",
    "\n",
    "    def forward(self, x):\n",
    "        residual = x\n",
    "        out = self.conv1(x)\n",
    "        out = self.bn1(out)\n",
    "        out = self.relu(out)\n",
    "        out = self.conv2(out)\n",
    "        out = self.bn2(out)\n",
    "        if self.downsample:\n",
    "            residual = self.downsample(x)\n",
    "        out += residual\n",
    "        out = self.relu(out)\n",
    "        return out"
   ]
  },
  {
   "cell_type": "code",
   "execution_count": 83,
   "id": "4f68da29",
   "metadata": {},
   "outputs": [],
   "source": [
    "# ResNet\n",
    "class ResNet(nn.Module):\n",
    "    def __init__(self, block, layers, num_classes=5):\n",
    "        super(ResNet, self).__init__()\n",
    "        self.conv = conv3x3(1, 16)\n",
    "        self.bn = nn.BatchNorm2d(16)\n",
    "        self.relu = nn.ReLU(inplace=True)\n",
    "        self.layer1 = self.make_layer(block, 16, 16, layers[0], 2)\n",
    "        self.layer2 = self.make_layer(block, 16, 32, layers[1], 2)\n",
    "        self.layer3 = self.make_layer(block, 32, 64, layers[2], 2)\n",
    "        self.layer4 = self.make_layer(block, 64, 128, layers[3], 2)\n",
    "        self.avg_pool = nn.AdaptiveAvgPool2d((1,1))\n",
    "        self.fc = nn.Linear(128, num_classes)\n",
    "\n",
    "    def make_layer(self, block, in_channels, out_channels, blocks, stride=1):\n",
    "        downsample = None\n",
    "        if (stride != 1) or (in_channels != out_channels):\n",
    "            downsample = nn.Sequential(\n",
    "                conv3x3(in_channels, out_channels, stride=stride),\n",
    "                nn.BatchNorm2d(out_channels))\n",
    "        layers = []\n",
    "        layers.append(block(in_channels, out_channels, stride, downsample))\n",
    "        for i in range(1, blocks):\n",
    "            layers.append(block(out_channels, out_channels))\n",
    "        return nn.Sequential(*layers)\n",
    "\n",
    "    def forward(self, x):\n",
    "        out = self.conv(x)\n",
    "        out = self.bn(out)\n",
    "        out = self.relu(out)\n",
    "        out = self.layer1(out)\n",
    "        out = self.layer2(out)\n",
    "        out = self.layer3(out)\n",
    "        out = self.layer4(out)\n",
    "        out = self.avg_pool(out)\n",
    "        out = out.view(out.size(0), -1)\n",
    "        out = self.fc(out)\n",
    "        return out\n",
    "\n",
    "model = ResNet(ResidualBlock, [3, 4, 6, 3], num_classes=5).to(device)"
   ]
  },
  {
   "cell_type": "code",
   "execution_count": 119,
   "id": "67014b86",
   "metadata": {},
   "outputs": [],
   "source": [
    "# 3x3 convolution\n",
    "def conv3x3(in_channels, out_channels, stride=1):\n",
    "    return nn.Conv2d(in_channels, out_channels, kernel_size=3, \n",
    "                     stride=stride, padding=1, bias=False)\n",
    "# 1x1 convolution\n",
    "def conv1x1(in_channels, out_channels, stride=1):\n",
    "    return nn.Conv2d(in_channels, out_channels, kernel_size=1, \n",
    "                     stride=stride, padding=0, bias=False)\n",
    "\n",
    "# Residual block\n",
    "class Bottleneck(nn.Module):\n",
    "    expansion = 4\n",
    "    def __init__(self, in_channels, channels, stride=1, downsample=None, base_width=16):\n",
    "        super(Bottleneck, self).__init__()\n",
    "        width = int(channels * (base_width / 16.))\n",
    "        self.conv1 = conv1x1(in_channels, width)\n",
    "        self.bn1 = nn.BatchNorm2d(width)\n",
    "        self.conv2 = conv3x3(width, width, stride)\n",
    "        self.bn2 = nn.BatchNorm2d(width)\n",
    "        self.conv3 = conv1x1(width, channels * self.expansion)\n",
    "        self.bn3 = nn.BatchNorm2d(channels * self.expansion)\n",
    "        self.relu = nn.ReLU(inplace=True)\n",
    "        self.downsample = downsample\n",
    "        self.stride = stride\n",
    "\n",
    "    def forward(self, x):\n",
    "        identity = x\n",
    "        \n",
    "        out = self.conv1(x)\n",
    "        out = self.bn1(out)\n",
    "        out = self.relu(out)\n",
    "        \n",
    "        out = self.conv2(out)\n",
    "        out = self.bn2(out)\n",
    "        out = self.relu(out)\n",
    "        \n",
    "        out = self.conv3(out)\n",
    "        out = self.bn3(out)\n",
    "        \n",
    "        if self.downsample:\n",
    "            identity = self.downsample(x)\n",
    "            \n",
    "        out += identity\n",
    "        out = self.relu(out)\n",
    "        \n",
    "        return out"
   ]
  },
  {
   "cell_type": "code",
   "execution_count": 124,
   "id": "4af4dccb",
   "metadata": {},
   "outputs": [],
   "source": [
    "class ResNet(nn.Module):\n",
    "    def __init__(self,\n",
    "                block,\n",
    "                layers,\n",
    "                num_classes,\n",
    "                base_width):\n",
    "        super(ResNet, self).__init__()\n",
    "        self.in_channels = 16\n",
    "        self.base_width = base_width\n",
    "        self.conv1 = nn.Conv2d(1, self.in_channels, kernel_size=5, stride=2, padding=2, bias=False)\n",
    "        self.bn1 = nn.BatchNorm2d(self.in_channels)\n",
    "        self.relu = nn.ReLU(inplace=True)\n",
    "        self.maxpool = nn.MaxPool2d(kernel_size=3, stride=2, padding=1)\n",
    "        self.layer1 = self._make_layer(block, 16, layers[0], stride=1)\n",
    "        self.layer2 = self._make_layer(block, 32, layers[1], stride=2)\n",
    "        self.layer3 = self._make_layer(block, 64, layers[2], stride=2)\n",
    "        self.layer4 = self._make_layer(block, 128, layers[3], stride=2)\n",
    "        self.avgpool = nn.AdaptiveAvgPool2d((1,1))\n",
    "        self.fc = nn.Linear(128*block.expansion, num_classes)\n",
    "        \n",
    "        for m in self.modules():\n",
    "            if isinstance(m, nn.Conv2d):\n",
    "                nn.init.kaiming_normal_(m.weight, mode='fan_out', nonlinearity='relu')\n",
    "            elif isinstance(m, nn.BatchNorm2d):\n",
    "                nn.init.constant_(m.weight, 1)\n",
    "                nn.init.constant_(m.bias, 0)\n",
    "    \n",
    "    def _make_layer(self, block, channels, n_blocks, stride):\n",
    "        downsample = None\n",
    "        \n",
    "        if stride != 1 or self.in_channels != channels*block.expansion:\n",
    "            downsample = nn.Sequential(conv1x1(self.in_channels, channels*block.expansion, stride),\n",
    "                                      nn.BatchNorm2d(channels*block.expansion))\n",
    "        \n",
    "        layers = list()\n",
    "        layers.append(block(self.in_channels, channels, stride, downsample, self.base_width))\n",
    "        \n",
    "        self.in_channels = channels*block.expansion\n",
    "        for _ in range(1, n_blocks):\n",
    "            layers.append(block(self.in_channels, channels, base_width = self.base_width))\n",
    "        \n",
    "        return nn.Sequential(*layers)\n",
    "    \n",
    "    def forward(self, x):\n",
    "        x = self.conv1(x)\n",
    "        x = self.bn1(x)\n",
    "        x = self.relu(x)\n",
    "        x = self.maxpool(x)\n",
    "\n",
    "        x = self.layer1(x)\n",
    "        x = self.layer2(x)\n",
    "        x = self.layer3(x)\n",
    "        x = self.layer4(x)\n",
    "\n",
    "        x = self.avgpool(x)\n",
    "        x = torch.flatten(x, 1)\n",
    "        x = self.fc(x)\n",
    "\n",
    "        return x"
   ]
  },
  {
   "cell_type": "code",
   "execution_count": 131,
   "id": "482af575",
   "metadata": {},
   "outputs": [],
   "source": [
    "model = ResNet(Bottleneck, [3, 4, 6, 3], num_classes=5, base_width=16).to(device)"
   ]
  },
  {
   "cell_type": "code",
   "execution_count": 132,
   "id": "da596c01",
   "metadata": {},
   "outputs": [],
   "source": [
    "# Loss and optimizer\n",
    "criterion = nn.CrossEntropyLoss()\n",
    "optimizer = torch.optim.Adam(model.parameters(), lr=learning_rate)"
   ]
  },
  {
   "cell_type": "code",
   "execution_count": 133,
   "id": "103646f7",
   "metadata": {
    "scrolled": true
   },
   "outputs": [
    {
     "name": "stderr",
     "output_type": "stream",
     "text": [
      "<ipython-input-40-2b9bfe8c4c65>:10: UserWarning: To copy construct from a tensor, it is recommended to use sourceTensor.clone().detach() or sourceTensor.clone().detach().requires_grad_(True), rather than torch.tensor(sourceTensor).\n",
      "  data = torch.tensor(self.data[idx], dtype=torch.float32)\n",
      "<ipython-input-40-2b9bfe8c4c65>:11: UserWarning: To copy construct from a tensor, it is recommended to use sourceTensor.clone().detach() or sourceTensor.clone().detach().requires_grad_(True), rather than torch.tensor(sourceTensor).\n",
      "  label = torch.tensor(self.label[idx], dtype=torch.int64)\n"
     ]
    },
    {
     "name": "stdout",
     "output_type": "stream",
     "text": [
      "Epoch [1/10], Step [3/9] Loss: 1.7333\n",
      "Epoch [1/10], Step [6/9] Loss: 1.7312\n",
      "Epoch [1/10], Step [9/9] Loss: 1.6636\n",
      "Epoch [2/10], Step [3/9] Loss: 1.5510\n",
      "Epoch [2/10], Step [6/9] Loss: 1.6501\n",
      "Epoch [2/10], Step [9/9] Loss: 1.4839\n",
      "Epoch [3/10], Step [3/9] Loss: 1.3469\n",
      "Epoch [3/10], Step [6/9] Loss: 1.2983\n",
      "Epoch [3/10], Step [9/9] Loss: 1.4031\n",
      "Epoch [4/10], Step [3/9] Loss: 1.1640\n",
      "Epoch [4/10], Step [6/9] Loss: 1.1048\n",
      "Epoch [4/10], Step [9/9] Loss: 1.2072\n",
      "Epoch [5/10], Step [3/9] Loss: 0.9197\n",
      "Epoch [5/10], Step [6/9] Loss: 0.8688\n",
      "Epoch [5/10], Step [9/9] Loss: 1.1199\n",
      "Epoch [6/10], Step [3/9] Loss: 0.7210\n",
      "Epoch [6/10], Step [6/9] Loss: 0.8956\n",
      "Epoch [6/10], Step [9/9] Loss: 0.7192\n",
      "Epoch [7/10], Step [3/9] Loss: 0.6454\n",
      "Epoch [7/10], Step [6/9] Loss: 0.9368\n",
      "Epoch [7/10], Step [9/9] Loss: 0.8369\n",
      "Epoch [8/10], Step [3/9] Loss: 0.4196\n",
      "Epoch [8/10], Step [6/9] Loss: 0.7175\n",
      "Epoch [8/10], Step [9/9] Loss: 0.8625\n",
      "Epoch [9/10], Step [3/9] Loss: 0.5149\n",
      "Epoch [9/10], Step [6/9] Loss: 0.6049\n",
      "Epoch [9/10], Step [9/9] Loss: 0.8745\n",
      "Epoch [10/10], Step [3/9] Loss: 0.5184\n",
      "Epoch [10/10], Step [6/9] Loss: 0.6257\n",
      "Epoch [10/10], Step [9/9] Loss: 0.8024\n"
     ]
    }
   ],
   "source": [
    "total_step = len(train_loader)\n",
    "curr_lr = learning_rate\n",
    "\n",
    "for epoch in range(num_epochs):\n",
    "    for i, (images, labels) in enumerate(train_loader):\n",
    "        images = images.to(device)\n",
    "        labels = labels.to(device)\n",
    "\n",
    "        # Forward pass\n",
    "        outputs = model(images)\n",
    "        loss = criterion(outputs, labels)\n",
    "\n",
    "        # Backward and optimize\n",
    "        optimizer.zero_grad()\n",
    "        loss.backward()\n",
    "        optimizer.step()\n",
    "\n",
    "        if (i+1) % 3 == 0:\n",
    "            print (\"Epoch [{}/{}], Step [{}/{}] Loss: {:.4f}\"\n",
    "                   .format(epoch+1, num_epochs, i+1, total_step, loss.item()))\n",
    "\n",
    "    # Decay learning rate\n",
    "    if (epoch+1) % 20 == 0:\n",
    "        curr_lr /= 3\n",
    "        update_lr(optimizer, curr_lr)"
   ]
  },
  {
   "cell_type": "code",
   "execution_count": 134,
   "id": "8509dad9",
   "metadata": {},
   "outputs": [
    {
     "name": "stdout",
     "output_type": "stream",
     "text": [
      "Accuracy of the model on the test images: 15.625 %\n"
     ]
    },
    {
     "name": "stderr",
     "output_type": "stream",
     "text": [
      "<ipython-input-40-2b9bfe8c4c65>:10: UserWarning: To copy construct from a tensor, it is recommended to use sourceTensor.clone().detach() or sourceTensor.clone().detach().requires_grad_(True), rather than torch.tensor(sourceTensor).\n",
      "  data = torch.tensor(self.data[idx], dtype=torch.float32)\n",
      "<ipython-input-40-2b9bfe8c4c65>:11: UserWarning: To copy construct from a tensor, it is recommended to use sourceTensor.clone().detach() or sourceTensor.clone().detach().requires_grad_(True), rather than torch.tensor(sourceTensor).\n",
      "  label = torch.tensor(self.label[idx], dtype=torch.int64)\n"
     ]
    }
   ],
   "source": [
    "# Test the model\n",
    "model.eval()\n",
    "with torch.no_grad():\n",
    "    correct = 0\n",
    "    total = 0\n",
    "    for images, labels in test_loader:\n",
    "        images = images.to(device)\n",
    "        labels = labels.to(device)\n",
    "        outputs = model(images)\n",
    "        _, predicted = torch.max(outputs.data, 1)\n",
    "        total += labels.size(0)\n",
    "        correct += (predicted == labels).sum().item()\n",
    "\n",
    "    print('Accuracy of the model on the test images: {} %'.format(100 * correct / total))\n"
   ]
  },
  {
   "cell_type": "code",
   "execution_count": null,
   "id": "7aa8aa9a",
   "metadata": {},
   "outputs": [],
   "source": []
  }
 ],
 "metadata": {
  "kernelspec": {
   "display_name": "g9star",
   "language": "python",
   "name": "g9star"
  },
  "language_info": {
   "codemirror_mode": {
    "name": "ipython",
    "version": 3
   },
   "file_extension": ".py",
   "mimetype": "text/x-python",
   "name": "python",
   "nbconvert_exporter": "python",
   "pygments_lexer": "ipython3",
   "version": "3.8.8"
  }
 },
 "nbformat": 4,
 "nbformat_minor": 5
}
